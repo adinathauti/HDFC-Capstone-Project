{
 "cells": [
  {
   "cell_type": "markdown",
   "metadata": {},
   "source": [
    "## Imports"
   ]
  },
  {
   "cell_type": "code",
   "execution_count": 1,
   "metadata": {
    "collapsed": true
   },
   "outputs": [],
   "source": [
    "import numpy as np \n",
    "import pandas as pd\n",
    "import matplotlib.pyplot as plt\n",
    "import numba\n",
    "import time\n",
    "import scipy.sparse\n",
    "\n",
    "from scipy.spatial.distance import correlation, cosine\n",
    "from sklearn.decomposition import TruncatedSVD\n",
    "\n",
    "import pickle\n",
    "from pprint import pprint\n",
    "\n",
    "%matplotlib inline"
   ]
  },
  {
   "cell_type": "code",
   "execution_count": 2,
   "metadata": {
    "collapsed": true
   },
   "outputs": [],
   "source": [
    "#Define the timeit decorator.                                          \n",
    "def timeit(method):\n",
    "    def timed(*args, **kw):\n",
    "        ts = time.time()\n",
    "        result = method(*args, **kw)\n",
    "        te = time.time()\n",
    "        if 'log_time' in kw:\n",
    "            name = kw.get('log_name', method.__name__.upper())\n",
    "            kw['log_time'][name] = int((te - ts) * 1000)\n",
    "        else:\n",
    "            print('%r  %2.2f ms' % \\\n",
    "                  (method.__name__, (te - ts) * 1000))\n",
    "        return result\n",
    "    return timed"
   ]
  },
  {
   "cell_type": "markdown",
   "metadata": {},
   "source": [
    "### Please note that commented code takes a long time to run. It is largely for getting the data into usable form. The resulting contents were saved as pickle files to save time. A link to these pickle files will be included.\n",
    "\n",
    "Link : https://ufile.io/z4omq (Valid for 30 days.Incase link dies/files get corrupted, please contact me @ adinathauti@gmail.com)"
   ]
  },
  {
   "cell_type": "markdown",
   "metadata": {},
   "source": [
    "# Initial read and create matrix part"
   ]
  },
  {
   "cell_type": "code",
   "execution_count": null,
   "metadata": {
    "collapsed": true
   },
   "outputs": [],
   "source": [
    "data = pd.read_csv('./reddit_data.csv')"
   ]
  },
  {
   "cell_type": "code",
   "execution_count": null,
   "metadata": {
    "collapsed": true
   },
   "outputs": [],
   "source": [
    "data.info()"
   ]
  },
  {
   "cell_type": "code",
   "execution_count": null,
   "metadata": {
    "collapsed": true
   },
   "outputs": [],
   "source": [
    "#data['subreddit'].value_counts()"
   ]
  },
  {
   "cell_type": "code",
   "execution_count": null,
   "metadata": {
    "collapsed": true
   },
   "outputs": [],
   "source": [
    "# plt.figure(figsize=(800,800))\n",
    "# plt.bar(range(len(data['subreddit'].head(8000).value_counts())), data['subreddit'].head(8000).value_counts())\n",
    "# plt.xticks(range(len(data['subreddit'].head(8000).value_counts())), data['subreddit'].head(8000).value_counts().index, rotation=90)"
   ]
  },
  {
   "cell_type": "code",
   "execution_count": null,
   "metadata": {
    "collapsed": true
   },
   "outputs": [],
   "source": [
    "#data['subreddit'].head(25).value_counts()"
   ]
  },
  {
   "cell_type": "code",
   "execution_count": null,
   "metadata": {
    "collapsed": true
   },
   "outputs": [],
   "source": [
    "#usr_sr = pd.DataFrame(data.groupby(by='username')['subreddit'].value_counts())"
   ]
  },
  {
   "cell_type": "code",
   "execution_count": null,
   "metadata": {
    "collapsed": true
   },
   "outputs": [],
   "source": [
    "#usr_sr"
   ]
  },
  {
   "cell_type": "code",
   "execution_count": null,
   "metadata": {
    "collapsed": true
   },
   "outputs": [],
   "source": [
    "# new_frame = pd.get_dummies(data['subreddit'].unique())"
   ]
  },
  {
   "cell_type": "code",
   "execution_count": null,
   "metadata": {
    "collapsed": true
   },
   "outputs": [],
   "source": [
    "# new_frame = new_frame[:22610]"
   ]
  },
  {
   "cell_type": "code",
   "execution_count": null,
   "metadata": {
    "collapsed": true
   },
   "outputs": [],
   "source": [
    "# new_frame.index = data['username'].unique()"
   ]
  },
  {
   "cell_type": "code",
   "execution_count": null,
   "metadata": {
    "collapsed": true
   },
   "outputs": [],
   "source": [
    "# user_sr = data['username'].unique()\n",
    "# cat_sr = data['subreddit'].unique()"
   ]
  },
  {
   "cell_type": "code",
   "execution_count": null,
   "metadata": {
    "collapsed": true
   },
   "outputs": [],
   "source": [
    "# @numba.jit\n",
    "# def make_mat(ip, op):\n",
    "#       \"\"\"\n",
    "#       Function to create the count matrix from the given data.\n",
    "#       ip: input dataframe\n",
    "#       op: output dataframe\n",
    "#       \"\"\"\n",
    "#     tot = len(ip)\n",
    "#     count = 0\n",
    "#     for row in ip.itertuples():\n",
    "#         if count%200000 == 0:\n",
    "#             print('{}/{}'.format(count, tot))\n",
    "#         usr = row[1]\n",
    "#         cat = row[2]\n",
    "#         op.loc[usr, cat] += 1\n",
    "#         count += 1\n",
    "#     return op"
   ]
  },
  {
   "cell_type": "code",
   "execution_count": null,
   "metadata": {
    "collapsed": true
   },
   "outputs": [],
   "source": [
    "# new_frame.info()"
   ]
  },
  {
   "cell_type": "code",
   "execution_count": null,
   "metadata": {
    "collapsed": true
   },
   "outputs": [],
   "source": [
    "# new_frame = make_mat(data, new_frame)"
   ]
  },
  {
   "cell_type": "markdown",
   "metadata": {},
   "source": [
    "## Saving the matrix in a pickle file."
   ]
  },
  {
   "cell_type": "code",
   "execution_count": null,
   "metadata": {
    "collapsed": true
   },
   "outputs": [],
   "source": [
    "# new_frame.to_pickle('df_pickled')"
   ]
  },
  {
   "cell_type": "markdown",
   "metadata": {},
   "source": [
    "# Loading from pickle"
   ]
  },
  {
   "cell_type": "code",
   "execution_count": 2,
   "metadata": {
    "collapsed": true
   },
   "outputs": [],
   "source": [
    "df = open('df_pickled', 'rb')\n",
    "mat= pd.read_pickle(df)\n",
    "df.close()"
   ]
  },
  {
   "cell_type": "markdown",
   "metadata": {},
   "source": [
    "# Reducing no. of columns"
   ]
  },
  {
   "cell_type": "code",
   "execution_count": 3,
   "metadata": {
    "collapsed": true
   },
   "outputs": [],
   "source": [
    "# ovr_count = mat.sum()"
   ]
  },
  {
   "cell_type": "code",
   "execution_count": 4,
   "metadata": {},
   "outputs": [
    {
     "data": {
      "image/png": "[encoded data removed]",
      "text/plain": [
       "<matplotlib.figure.Figure at 0x7fec0dfbd8d0>"
      ]
     },
     "metadata": {},
     "output_type": "display_data"
    }
   ],
   "source": [
    "# len_ls = []\n",
    "# x = [0,5,10,15,20]\n",
    "# for i in x:\n",
    "#     len_ls.append(len(ovr_count[ovr_count > i]))\n",
    "# plt.plot(x, len_ls)\n",
    "# plt.xticks(x)\n",
    "# plt.xlabel('# of posts threshold')\n",
    "# plt.ylabel('# of sub-reddits')\n",
    "# plt.show()"
   ]
  },
  {
   "cell_type": "markdown",
   "metadata": {},
   "source": [
    "### Many subreddits have less than 10 posts. We do not include them in order to reduce computation time. It is not necessary to remove them, we could include them in our recommendations on a faster, more powerful machine."
   ]
  },
  {
   "cell_type": "code",
   "execution_count": null,
   "metadata": {
    "collapsed": true
   },
   "outputs": [],
   "source": [
    "# keep_cols = ovr_count[ovr_count > 10].index"
   ]
  },
  {
   "cell_type": "code",
   "execution_count": null,
   "metadata": {
    "collapsed": true
   },
   "outputs": [],
   "source": [
    "# new_mat = pd.DataFrame(mat, columns=keep_cols)"
   ]
  },
  {
   "cell_type": "code",
   "execution_count": null,
   "metadata": {
    "collapsed": true
   },
   "outputs": [],
   "source": [
    "# new_mat.info()"
   ]
  },
  {
   "cell_type": "markdown",
   "metadata": {},
   "source": [
    "## Saving reduced matrix to a pickle file."
   ]
  },
  {
   "cell_type": "code",
   "execution_count": null,
   "metadata": {
    "collapsed": true
   },
   "outputs": [],
   "source": [
    "# op_f = open('trunc_matrix', 'wb')\n",
    "# new_mat.to_pickle(op_f)\n",
    "# op_f.close()"
   ]
  },
  {
   "cell_type": "markdown",
   "metadata": {},
   "source": [
    "## Loading reduced matrix from pickle"
   ]
  },
  {
   "cell_type": "code",
   "execution_count": 3,
   "metadata": {
    "collapsed": true
   },
   "outputs": [],
   "source": [
    "another_f = open('trunc_matrix', 'rb')\n",
    "trunc_df = pd.read_pickle(another_f)"
   ]
  },
  {
   "cell_type": "code",
   "execution_count": 4,
   "metadata": {
    "collapsed": true
   },
   "outputs": [],
   "source": [
    "zero_usrs = trunc_df.sum(axis=1)[trunc_df.sum(axis=1)==0].index\n",
    "zero_usrs\n",
    "trunc_df = trunc_df.drop(zero_usrs)\n",
    "##drop users with no activity on reddit. (Cold-start issue)"
   ]
  },
  {
   "cell_type": "code",
   "execution_count": 15,
   "metadata": {},
   "outputs": [
    {
     "name": "stdout",
     "output_type": "stream",
     "text": [
      "<class 'pandas.core.frame.DataFrame'>\n",
      "Index: 22610 entries, kabanossi to RushNY\n",
      "Columns: 34967 entries, 007 to zzt\n",
      "dtypes: uint8(34967)\n",
      "memory usage: 754.2+ MB\n"
     ]
    }
   ],
   "source": [
    "# mat.info()"
   ]
  },
  {
   "cell_type": "code",
   "execution_count": 18,
   "metadata": {},
   "outputs": [
    {
     "name": "stdout",
     "output_type": "stream",
     "text": [
      "<class 'pandas.core.frame.DataFrame'>\n",
      "Index: 22598 entries, kabanossi to RushNY\n",
      "Columns: 13784 entries, 0x3642 to zzt\n",
      "dtypes: uint8(13784)\n",
      "memory usage: 297.9+ MB\n"
     ]
    }
   ],
   "source": [
    "trunc_df.info()"
   ]
  },
  {
   "cell_type": "markdown",
   "metadata": {},
   "source": [
    "## Creating a correlation matrix for the subreddits."
   ]
  },
  {
   "cell_type": "code",
   "execution_count": 5,
   "metadata": {
    "scrolled": true
   },
   "outputs": [
    {
     "data": {
      "text/plain": [
       "(13784, 12)"
      ]
     },
     "execution_count": 5,
     "metadata": {},
     "output_type": "execute_result"
    }
   ],
   "source": [
    "trunc_vals = trunc_df.values\n",
    "svd_obj = TruncatedSVD(n_components=12)\n",
    "svd_mat = svd_obj.fit_transform(trunc_vals.T)\n",
    "svd_mat.shape"
   ]
  },
  {
   "cell_type": "code",
   "execution_count": 6,
   "metadata": {},
   "outputs": [
    {
     "data": {
      "text/plain": [
       "array([[ 1.        ,  0.27480748,  0.09618065, ...,  0.31175771,\n",
       "         0.19462804,  0.48235578],\n",
       "       [ 0.27480748,  1.        , -0.11746994, ...,  0.1606609 ,\n",
       "         0.07524985,  0.71483842],\n",
       "       [ 0.09618065, -0.11746994,  1.        , ..., -0.03032932,\n",
       "        -0.07627504, -0.04089261],\n",
       "       ..., \n",
       "       [ 0.31175771,  0.1606609 , -0.03032932, ...,  1.        ,\n",
       "         0.55280316,  0.13172445],\n",
       "       [ 0.19462804,  0.07524985, -0.07627504, ...,  0.55280316,\n",
       "         1.        ,  0.09551473],\n",
       "       [ 0.48235578,  0.71483842, -0.04089261, ...,  0.13172445,\n",
       "         0.09551473,  1.        ]])"
      ]
     },
     "execution_count": 6,
     "metadata": {},
     "output_type": "execute_result"
    }
   ],
   "source": [
    "corr_mat = np.corrcoef(svd_mat)\n",
    "corr_mat"
   ]
  },
  {
   "cell_type": "code",
   "execution_count": 7,
   "metadata": {
    "collapsed": true
   },
   "outputs": [],
   "source": [
    "corr_df = pd.DataFrame(corr_mat, columns=trunc_df.columns, index=trunc_df.columns)\n",
    "#corr_df"
   ]
  },
  {
   "cell_type": "markdown",
   "metadata": {},
   "source": [
    "### Function to find similar users."
   ]
  },
  {
   "cell_type": "code",
   "execution_count": 19,
   "metadata": {
    "collapsed": true
   },
   "outputs": [],
   "source": [
    "@timeit\n",
    "def compute(ip_row):\n",
    "    \"\"\"\n",
    "    Function to compute user similarity. \n",
    "    ip_row: Row of the user for which to compute similarities.\n",
    "    \"\"\"\n",
    "    ls = []\n",
    "    for i in range(22598):\n",
    "        ls.append((i, 1-correlation(ip_row,trunc_df.iloc[i,:])))\n",
    "    sorted_ls = sorted(ls , key=lambda x:x[1], reverse=True)\n",
    "    return sorted_ls"
   ]
  },
  {
   "cell_type": "markdown",
   "metadata": {},
   "source": [
    "## Functions to compute score of recommended subreddit."
   ]
  },
  {
   "cell_type": "code",
   "execution_count": 9,
   "metadata": {
    "collapsed": true
   },
   "outputs": [],
   "source": [
    "def compute_score_0(rec1, seen_sr):\n",
    "    \"\"\"\n",
    "    Function to compute recommendation scores.\n",
    "    \"\"\"\n",
    "    score = 0\n",
    "    for sr in seen_sr.index:\n",
    "        score = score+corr_df.loc[sr, rec1]\n",
    "    return score"
   ]
  },
  {
   "cell_type": "code",
   "execution_count": 10,
   "metadata": {
    "collapsed": true
   },
   "outputs": [],
   "source": [
    "def compute_score(rec1, seen_sr):\n",
    "    \"\"\"\n",
    "    Function to compute recommendation scores.\n",
    "    \"\"\"\n",
    "    score = 0\n",
    "    for sr in seen_sr.index:\n",
    "        score = score+corr_df.loc[sr, rec1]\n",
    "    return (score/len(seen_sr))"
   ]
  },
  {
   "cell_type": "code",
   "execution_count": 11,
   "metadata": {
    "collapsed": true
   },
   "outputs": [],
   "source": [
    "def compute_score_2(rec1, seen_sr):\n",
    "    \"\"\"\n",
    "    Function to compute recommendation scores.\n",
    "    \"\"\"\n",
    "    score = 0\n",
    "    for sr in seen_sr.index:\n",
    "        score = score+(seen_sr[sr]*corr_df.loc[sr, rec1])\n",
    "    return (score/len(seen_sr))"
   ]
  },
  {
   "cell_type": "markdown",
   "metadata": {},
   "source": [
    "## Recommend function."
   ]
  },
  {
   "cell_type": "code",
   "execution_count": 12,
   "metadata": {
    "collapsed": true
   },
   "outputs": [],
   "source": [
    "def recommend_0(n_recs=10):\n",
    "    \"\"\"\n",
    "    Recommend function #0. Only returns the specified no. of subreddits with the highest post counts.\n",
    "    n_recs: no. of recommendations to return.\n",
    "    \"\"\"\n",
    "    sum_cols = trunc_df.sum(axis=0)\n",
    "    return sum_cols.sort_values(ascending=False).head(n_recs).index.tolist()"
   ]
  },
  {
   "cell_type": "code",
   "execution_count": 13,
   "metadata": {
    "collapsed": true
   },
   "outputs": [],
   "source": [
    "@timeit\n",
    "def recommend_1(usr_idx, ip_df, usr_range=10, n_recs=10):\n",
    "    \"\"\"\n",
    "    Recommend function #1. Finds the specified no. of most similar users to the current user and returns the specified\n",
    "    no. of recommendations. Recommendations are ordered by the avg. similarity between the recommended item and the \n",
    "    items already seen by the user.\n",
    "    user_idx: index of user for whom to generate recommendations.\n",
    "    ip_df: input dataframe.\n",
    "    usr_range: how many similar users to consider when creating recommendations.\n",
    "    n_recs: no. of recommendations to generate.\n",
    "    \"\"\"\n",
    "    seen = ip_df.iloc[usr_idx, :].sort_values(ascending=False)[ip_df.iloc[usr_idx,:].sort_values(ascending=False) != 0]\n",
    "    corr_ls = compute(ip_df.iloc[usr_idx, :])\n",
    "    tmp_ls = sorted(corr_ls , key=lambda x:x[1], reverse=True)[1:usr_range]\n",
    "    sim_usrs = map(lambda x:x[0], tmp_ls)\n",
    "    sim_srs = []\n",
    "    for usr in sim_usrs:\n",
    "        sim_srs.extend(trunc_df.iloc[usr, :].sort_values()[trunc_df.iloc[usr, :].sort_values() != 0].index.tolist())\n",
    "    recs = list(set(sim_srs).difference(seen.index.tolist()))\n",
    "    print len(seen),len(sim_srs),len(recs)\n",
    "    new_recs = []\n",
    "    for rec in recs:\n",
    "        new_recs.append((rec, compute_score(rec, seen)))\n",
    "    return sorted(new_recs, key=lambda x:x[1], reverse=True)[0:n_recs]"
   ]
  },
  {
   "cell_type": "code",
   "execution_count": 14,
   "metadata": {
    "collapsed": true
   },
   "outputs": [],
   "source": [
    "@timeit\n",
    "def recommend_2(usr_idx, ip_df, usr_range=10, n_recs=10):\n",
    "    \"\"\"\n",
    "    Recommend function #2. Finds the specified no. of most similar users to the current user and returns the specified\n",
    "    no. of recommendations. Recommendations are ordered by the weighted average similarity between the recommended \n",
    "    item and the items already seen by the user.\n",
    "    user_idx: index of user for whom to generate recommendations.\n",
    "    ip_df: input dataframe.\n",
    "    usr_range: how many similar users to consider when creating recommendations.\n",
    "    n_recs: no. of recommendations to generate.\n",
    "    \"\"\"\n",
    "    seen = ip_df.iloc[usr_idx, :].sort_values(ascending=False)[ip_df.iloc[usr_idx,:].sort_values(ascending=False) != 0]\n",
    "    corr_ls = compute(ip_df.iloc[usr_idx, :])\n",
    "    tmp_ls = sorted(corr_ls , key=lambda x:x[1], reverse=True)[1:usr_range]\n",
    "    sim_usrs = map(lambda x:x[0], tmp_ls)\n",
    "    sim_srs = []\n",
    "    for usr in sim_usrs:\n",
    "        sim_srs.extend(trunc_df.iloc[usr, :].sort_values()[trunc_df.iloc[usr, :].sort_values() != 0].index.tolist())\n",
    "    recs = list(set(sim_srs).difference(seen.index.tolist()))\n",
    "    print len(seen),len(sim_srs),len(recs)\n",
    "    new_recs = []\n",
    "    for rec in recs:\n",
    "        new_recs.append((rec, compute_score_2(rec, seen)))\n",
    "    return sorted(new_recs, key=lambda x:x[1], reverse=True)[0:n_recs]"
   ]
  },
  {
   "cell_type": "markdown",
   "metadata": {},
   "source": [
    "## Let's test it on a few users."
   ]
  },
  {
   "cell_type": "code",
   "execution_count": 22,
   "metadata": {
    "collapsed": true
   },
   "outputs": [],
   "source": [
    "users_ls = np.random.randint(0, 22598, 3)"
   ]
  },
  {
   "cell_type": "code",
   "execution_count": 23,
   "metadata": {},
   "outputs": [
    {
     "name": "stdout",
     "output_type": "stream",
     "text": [
      "========================================User: Stuckinaloop\n",
      "news            166\n",
      "sanfrancisco    143\n",
      "politics         63\n",
      "AskReddit        33\n",
      "bayarea          31\n",
      "Name: Stuckinaloop, dtype: uint8\n",
      "--------------------\n",
      "'compute'  11802.84 ms\n",
      "16 34 26\n",
      "'recommend_1'  11848.31 ms\n",
      "[('dataisbeautiful', 0.80595808615432563),\n",
      " ('OutOfTheLoop', 0.78954797184042103),\n",
      " ('history', 0.77655970014052833),\n",
      " ('Futurology', 0.76826271867628648),\n",
      " ('InternetIsBeautiful', 0.7586121426900998),\n",
      " ('creepy', 0.75431668143237907),\n",
      " ('TwoXChromosomes', 0.7495852771080922),\n",
      " ('Music', 0.74032025491038977),\n",
      " ('cars', 0.73196045633954332),\n",
      " ('changemyview', 0.72820616937113769)]\n",
      "--------------------\n",
      "'compute'  10980.76 ms\n",
      "16 34 26\n",
      "'recommend_2'  11028.47 ms\n",
      "[('dataisbeautiful', 24.614694947547701),\n",
      " ('Futurology', 24.563319734176726),\n",
      " ('TrueReddit', 23.9670779442976),\n",
      " ('changemyview', 23.634294500715814),\n",
      " ('history', 23.38903237713318),\n",
      " ('TwoXChromosomes', 22.908431860342716),\n",
      " ('NorthCarolina', 22.287535674403063),\n",
      " ('collapse', 22.021128987887163),\n",
      " ('OutOfTheLoop', 21.935672454207971),\n",
      " ('overpopulation', 21.151814723062255)]\n",
      "========================================\n",
      "========================================User: kevinhpj\n",
      "Pokemongiveaway    59\n",
      "pathofexile        29\n",
      "hearthstone         4\n",
      "pokemongo           4\n",
      "mousehunt           4\n",
      "Name: kevinhpj, dtype: uint8\n",
      "--------------------\n",
      "'compute'  11066.21 ms\n",
      "9 8 4\n",
      "'recommend_1'  11097.46 ms\n",
      "[('EvolveGame', 0.76380510532887902),\n",
      " ('GiveMeTheVirus', 0.58024065760494004),\n",
      " ('CasualPokemonTrades', 0.49222495946880851),\n",
      " ('Veep', 0.23162187793284333)]\n",
      "--------------------\n",
      "'compute'  11455.31 ms\n",
      "9 8 4\n",
      "'recommend_2'  11487.39 ms\n",
      "[('EvolveGame', 8.5951756521730083),\n",
      " ('GiveMeTheVirus', 5.6869500034310922),\n",
      " ('CasualPokemonTrades', 5.3160493687271737),\n",
      " ('Veep', 1.9536378070547324)]\n",
      "========================================\n",
      "========================================User: vish_bavs\n",
      "Jokes                11\n",
      "AskReddit             5\n",
      "Showerthoughts        4\n",
      "funny                 2\n",
      "mildlyinteresting     2\n",
      "Name: vish_bavs, dtype: uint8\n",
      "--------------------\n",
      "'compute'  11688.61 ms\n",
      "13 40 29\n",
      "'recommend_1'  11728.69 ms\n",
      "[('tifu', 0.88062831863676305),\n",
      " ('whatisthisthing', 0.87592428300015546),\n",
      " ('sex', 0.863696076440156),\n",
      " ('Music', 0.85862817330821573),\n",
      " ('iamverysmart', 0.84799579950950976),\n",
      " ('OldSchoolCool', 0.84487195442719265),\n",
      " ('explainlikeimfive', 0.84064442919414628),\n",
      " ('aww', 0.83961364612267342),\n",
      " ('MeanJokes', 0.83615003357933948),\n",
      " ('askscience', 0.82849274766464853)]\n",
      "--------------------\n",
      "'compute'  10945.22 ms\n",
      "13 40 29\n",
      "'recommend_2'  10996.08 ms\n",
      "[('tifu', 2.2749617047897628),\n",
      " ('whatisthisthing', 2.2510669838311914),\n",
      " ('sex', 2.2309242629751505),\n",
      " ('Music', 2.1826782430202329),\n",
      " ('OldSchoolCool', 2.1639179939315225),\n",
      " ('explainlikeimfive', 2.1613135441434514),\n",
      " ('iamverysmart', 2.1472109335769805),\n",
      " ('MeanJokes', 2.1414543644914037),\n",
      " ('aww', 2.1392780982653949),\n",
      " ('askscience', 2.099679753503334)]\n",
      "========================================\n"
     ]
    }
   ],
   "source": [
    "for user in users_ls:\n",
    "    print '='*40+'User: {}'.format(trunc_df.index.tolist()[user])\n",
    "    print trunc_df.iloc[user, :].sort_values(ascending=False).head(5)\n",
    "    print '-'*20\n",
    "    pprint(recommend_1(user, trunc_df, usr_range=3))\n",
    "    print '-'*20\n",
    "    pprint(recommend_2(user, trunc_df, usr_range=3))\n",
    "    print '='*40"
   ]
  },
  {
   "cell_type": "markdown",
   "metadata": {},
   "source": [
    "### Recommenders bring up relevant subreddits acco/rding to the user in question."
   ]
  },
  {
   "cell_type": "markdown",
   "metadata": {},
   "source": [
    "## Let's try to evaluate it in some other way."
   ]
  },
  {
   "cell_type": "markdown",
   "metadata": {},
   "source": [
    "### This function will sample some of the original data and set a few subreddits counts to zero for each user. The aim is to see if the recommender will recommend at least some of those subreddits which have been set to zero based on user's previous history and similar user's preferences."
   ]
  },
  {
   "cell_type": "code",
   "execution_count": 28,
   "metadata": {
    "collapsed": true
   },
   "outputs": [],
   "source": [
    "def create_test(ip_df, ratio=0.001, n_zero=1):\n",
    "    \"\"\"\n",
    "    ip_df: input dataframe\n",
    "    ratio: fraction of input dataframe to sample(in rows)\n",
    "    n_zero: no. of zeroes to add in one row.(<10)\n",
    "    \"\"\"\n",
    "    subset = pd.DataFrame(ip_df.sample(frac=ratio), copy=True)\n",
    "    for entry in subset.index:\n",
    "        entry_n = subset.index.tolist().index(entry)\n",
    "        nz_cols = trunc_df.loc[entry].sort_values(ascending=False).head(10)\n",
    "        make_zero = np.random.choice(nz_cols.index.tolist(), n_zero)\n",
    "        for col in make_zero:\n",
    "            subset.ix[entry_n, col] = subset.ix[entry_n, col]-subset.ix[entry_n, col]\n",
    "    return subset"
   ]
  },
  {
   "cell_type": "code",
   "execution_count": 35,
   "metadata": {},
   "outputs": [
    {
     "name": "stderr",
     "output_type": "stream",
     "text": [
      "/home/daksha/anaconda2/lib/python2.7/site-packages/ipykernel_launcher.py:13: DeprecationWarning: \n",
      ".ix is deprecated. Please use\n",
      ".loc for label based indexing or\n",
      ".iloc for positional indexing\n",
      "\n",
      "See the documentation here:\n",
      "http://pandas.pydata.org/pandas-docs/stable/indexing.html#deprecate_ix\n",
      "  del sys.path[0]\n"
     ]
    }
   ],
   "source": [
    "test_df = create_test(trunc_df, ratio=0.001, n_zero=4)"
   ]
  },
  {
   "cell_type": "code",
   "execution_count": 36,
   "metadata": {},
   "outputs": [
    {
     "data": {
      "text/plain": [
       "wy1d0                495\n",
       "heiderm2             802\n",
       "ohioRS                25\n",
       "SentienceBot         673\n",
       "shinyspenny           87\n",
       "TumblrInGarbage      489\n",
       "LiamsNeesons         745\n",
       "Irresisti             33\n",
       "vtechru_2010         232\n",
       "Droggelbecher        740\n",
       "Granny_Weatherwax    230\n",
       "chomskynoam          487\n",
       "MickeybFresh         233\n",
       "deathangel687        756\n",
       "HariMichaelson       232\n",
       "BotSpeaks            489\n",
       "gsycrasher12         110\n",
       "strangenamegame      305\n",
       "mrleebob             739\n",
       "xbk1                 997\n",
       "Ms_Anxiety           998\n",
       "CrimsonKing1029      744\n",
       "2dank2bite            68\n",
       "dtype: int64"
      ]
     },
     "execution_count": 36,
     "metadata": {},
     "output_type": "execute_result"
    }
   ],
   "source": [
    "trunc_df.loc[test_df.index].sum(axis=1)"
   ]
  },
  {
   "cell_type": "code",
   "execution_count": 37,
   "metadata": {},
   "outputs": [
    {
     "data": {
      "text/plain": [
       "wy1d0                404\n",
       "heiderm2             467\n",
       "ohioRS                22\n",
       "SentienceBot         590\n",
       "shinyspenny           75\n",
       "TumblrInGarbage      406\n",
       "LiamsNeesons         318\n",
       "Irresisti             10\n",
       "vtechru_2010         162\n",
       "Droggelbecher        688\n",
       "Granny_Weatherwax     97\n",
       "chomskynoam          265\n",
       "MickeybFresh         232\n",
       "deathangel687        363\n",
       "HariMichaelson       232\n",
       "BotSpeaks            457\n",
       "gsycrasher12          86\n",
       "strangenamegame      292\n",
       "mrleebob             466\n",
       "xbk1                 751\n",
       "Ms_Anxiety           665\n",
       "CrimsonKing1029      691\n",
       "2dank2bite            37\n",
       "dtype: int64"
      ]
     },
     "execution_count": 37,
     "metadata": {},
     "output_type": "execute_result"
    }
   ],
   "source": [
    "test_df.sum(axis=1)"
   ]
  },
  {
   "cell_type": "code",
   "execution_count": 40,
   "metadata": {},
   "outputs": [
    {
     "data": {
      "text/plain": [
       "array(['2dank2bite', 'Irresisti', 'mrleebob', 'wy1d0', 'SentienceBot',\n",
       "       'CrimsonKing1029', 'LiamsNeesons', 'CrimsonKing1029',\n",
       "       'gsycrasher12', 'wy1d0', 'MickeybFresh', 'chomskynoam',\n",
       "       'Droggelbecher', '2dank2bite', 'Ms_Anxiety'], dtype=object)"
      ]
     },
     "execution_count": 40,
     "metadata": {},
     "output_type": "execute_result"
    }
   ],
   "source": [
    "var = np.random.choice(test_df.index, 15)\n",
    "var"
   ]
  },
  {
   "cell_type": "code",
   "execution_count": 41,
   "metadata": {
    "collapsed": true
   },
   "outputs": [],
   "source": [
    "def retrieved(ip, recs):\n",
    "    recs_cl = map(lambda x:x[0], recs)\n",
    "    length = len(ip)\n",
    "    count = 0\n",
    "    for sr in ip:\n",
    "        if sr in recs_cl:\n",
    "            count+=1\n",
    "    #print '\\n{}/{} topics successfully retrieved'.format(count, length)\n",
    "    return count,length"
   ]
  },
  {
   "cell_type": "code",
   "execution_count": 42,
   "metadata": {
    "collapsed": true
   },
   "outputs": [],
   "source": [
    "def test(usr_ls):\n",
    "    ovr_cnt = 0\n",
    "    ovr_len = 0\n",
    "    for usr in usr_ls:\n",
    "        cnt=0\n",
    "        length=0\n",
    "        idx = test_df.index.tolist().index(usr)\n",
    "        op_ls = recommend_2(idx, test_df, usr_range=3)\n",
    "        A = set(trunc_df.loc[usr].sort_values(ascending=False).head(15).index.tolist())\n",
    "        B = set(test_df.loc[usr].sort_values(ascending=False).head(15).index.tolist())\n",
    "        cnt,leng = retrieved((A-B), op_ls)\n",
    "        ovr_cnt = ovr_cnt+cnt\n",
    "        ovr_len = ovr_len+leng\n",
    "    print'\\n\\n{}/{} overall'.format(ovr_cnt,ovr_len)"
   ]
  },
  {
   "cell_type": "code",
   "execution_count": 43,
   "metadata": {},
   "outputs": [
    {
     "name": "stdout",
     "output_type": "stream",
     "text": [
      "'compute'  15902.39 ms\n",
      "14 90 58\n",
      "'recommend_2'  15973.40 ms\n",
      "'compute'  11881.53 ms\n",
      "5 2 0\n",
      "'recommend_2'  11909.65 ms\n",
      "'compute'  12094.78 ms\n",
      "63 17 9\n",
      "'recommend_2'  12146.85 ms\n",
      "'compute'  11994.20 ms\n",
      "41 78 57\n",
      "'recommend_2'  12150.56 ms\n",
      "'compute'  11856.65 ms\n",
      "109 21 6\n",
      "'recommend_2'  11911.51 ms\n",
      "'compute'  11882.90 ms\n",
      "72 17 12\n",
      "'recommend_2'  11946.82 ms\n",
      "'compute'  11769.72 ms\n",
      "44 156 101\n",
      "'recommend_2'  12012.40 ms\n",
      "'compute'  13798.63 ms\n",
      "72 17 12\n",
      "'recommend_2'  13927.55 ms\n",
      "'compute'  13054.60 ms\n",
      "13 90 69\n",
      "'recommend_2'  13134.65 ms\n",
      "'compute'  14943.27 ms\n",
      "41 78 57\n",
      "'recommend_2'  15086.49 ms\n",
      "'compute'  12303.72 ms\n",
      "3 33 29\n",
      "'recommend_2'  12345.55 ms\n",
      "'compute'  11856.29 ms\n",
      "41 92 89\n",
      "'recommend_2'  12068.46 ms\n",
      "'compute'  11772.00 ms\n",
      "106 90 69\n",
      "'recommend_2'  12132.19 ms\n",
      "'compute'  12331.17 ms\n",
      "14 90 58\n",
      "'recommend_2'  12397.29 ms\n",
      "'compute'  12599.06 ms\n",
      "21 137 111\n",
      "'recommend_2'  12733.01 ms\n",
      "\n",
      "\n",
      "6/42 overall\n"
     ]
    }
   ],
   "source": [
    "test(var)"
   ]
  },
  {
   "cell_type": "markdown",
   "metadata": {},
   "source": [
    "### As we can see, the recommender performs somewhat worse.\n",
    "### This can be because:\n",
    "* There aren't enough similar users.\n",
    "* There aren't other subreddits in the user's history similar to the one we removed.\n",
    "* Maybe the other users do not visit the subreddit we removed as much as the user in question does.\n",
    "### The best way to evaluate such a system would be to actually track if the user clicks on the recommendations."
   ]
  },
  {
   "cell_type": "markdown",
   "metadata": {},
   "source": [
    "### Advantages:\n",
    "* Simple and fast. Leverages data from other users.(User-user CF)\n",
    "* Provides relevant results\n",
    "\n",
    "## Disadvantages:\n",
    "* Influenced by the activity of similar users.\n",
    "* Cold-start problem.(We cannot generate recommendations for users with no activity.(Probably use recommender_0 as a fallback in this case?))"
   ]
  }
 ],
 "metadata": {
  "kernelspec": {
   "display_name": "Python 2",
   "language": "python",
   "name": "python2"
  },
  "language_info": {
   "codemirror_mode": {
    "name": "ipython",
    "version": 2
   },
   "file_extension": ".py",
   "mimetype": "text/x-python",
   "name": "python",
   "nbconvert_exporter": "python",
   "pygments_lexer": "ipython2",
   "version": "2.7.13"
  }
 },
 "nbformat": 4,
 "nbformat_minor": 2
}
